{
 "cells": [
  {
   "cell_type": "code",
   "execution_count": 1,
   "id": "28bd008f",
   "metadata": {},
   "outputs": [
    {
     "name": "stderr",
     "output_type": "stream",
     "text": [
      "c:\\Users\\laure\\AppData\\Local\\pypoetry\\Cache\\virtualenvs\\pjs-8TwGqzJm-py3.12\\Lib\\site-packages\\tqdm\\auto.py:21: TqdmWarning: IProgress not found. Please update jupyter and ipywidgets. See https://ipywidgets.readthedocs.io/en/stable/user_install.html\n",
      "  from .autonotebook import tqdm as notebook_tqdm\n"
     ]
    }
   ],
   "source": [
    "from transformers import AutoTokenizer, GPT2LMHeadModel, Trainer, TrainingArguments, DataCollatorForLanguageModeling\n",
    "from torch.utils.data import Dataset\n",
    "from pjs.dataset import Data\n",
    "import pandas as pd\n",
    "import torch\n",
    "from loguru import logger"
   ]
  },
  {
   "cell_type": "code",
   "execution_count": 2,
   "id": "37568784",
   "metadata": {},
   "outputs": [
    {
     "name": "stderr",
     "output_type": "stream",
     "text": [
      "\u001b[32m2025-04-18 12:55:46.934\u001b[0m | \u001b[1mINFO    \u001b[0m | \u001b[36mpjs.dataset\u001b[0m:\u001b[36mcollect_data\u001b[0m:\u001b[36m41\u001b[0m - \u001b[1mSuccessfully loaded 'examples' from: ..\\data\\LMentry\\bigger_number.json\u001b[0m\n",
      "\u001b[32m2025-04-18 12:55:46.942\u001b[0m | \u001b[1mINFO    \u001b[0m | \u001b[36mpjs.dataset\u001b[0m:\u001b[36mcollect_data\u001b[0m:\u001b[36m41\u001b[0m - \u001b[1mSuccessfully loaded 'examples' from: ..\\data\\LMentry\\first_alphabetically.json\u001b[0m\n",
      "\u001b[32m2025-04-18 12:55:46.948\u001b[0m | \u001b[1mINFO    \u001b[0m | \u001b[36mpjs.dataset\u001b[0m:\u001b[36mcollect_data\u001b[0m:\u001b[36m41\u001b[0m - \u001b[1mSuccessfully loaded 'examples' from: ..\\data\\LMentry\\first_alphabetically_consecutive_first_letter.json\u001b[0m\n",
      "\u001b[32m2025-04-18 12:55:46.954\u001b[0m | \u001b[1mINFO    \u001b[0m | \u001b[36mpjs.dataset\u001b[0m:\u001b[36mcollect_data\u001b[0m:\u001b[36m41\u001b[0m - \u001b[1mSuccessfully loaded 'examples' from: ..\\data\\LMentry\\first_alphabetically_different_first_letter.json\u001b[0m\n",
      "\u001b[32m2025-04-18 12:55:46.961\u001b[0m | \u001b[1mINFO    \u001b[0m | \u001b[36mpjs.dataset\u001b[0m:\u001b[36mcollect_data\u001b[0m:\u001b[36m41\u001b[0m - \u001b[1mSuccessfully loaded 'examples' from: ..\\data\\LMentry\\first_alphabetically_far_first_letter.json\u001b[0m\n",
      "\u001b[32m2025-04-18 12:55:46.967\u001b[0m | \u001b[1mINFO    \u001b[0m | \u001b[36mpjs.dataset\u001b[0m:\u001b[36mcollect_data\u001b[0m:\u001b[36m41\u001b[0m - \u001b[1mSuccessfully loaded 'examples' from: ..\\data\\LMentry\\first_alphabetically_same_first_letter.json\u001b[0m\n",
      "\u001b[32m2025-04-18 12:55:46.972\u001b[0m | \u001b[1mINFO    \u001b[0m | \u001b[36mpjs.dataset\u001b[0m:\u001b[36mcollect_data\u001b[0m:\u001b[36m41\u001b[0m - \u001b[1mSuccessfully loaded 'examples' from: ..\\data\\LMentry\\first_letter.json\u001b[0m\n",
      "\u001b[32m2025-04-18 12:55:46.978\u001b[0m | \u001b[1mINFO    \u001b[0m | \u001b[36mpjs.dataset\u001b[0m:\u001b[36mcollect_data\u001b[0m:\u001b[36m41\u001b[0m - \u001b[1mSuccessfully loaded 'examples' from: ..\\data\\LMentry\\first_word.json\u001b[0m\n",
      "\u001b[32m2025-04-18 12:55:46.982\u001b[0m | \u001b[1mINFO    \u001b[0m | \u001b[36mpjs.dataset\u001b[0m:\u001b[36mcollect_data\u001b[0m:\u001b[36m41\u001b[0m - \u001b[1mSuccessfully loaded 'examples' from: ..\\data\\LMentry\\homophones.json\u001b[0m\n",
      "\u001b[32m2025-04-18 12:55:46.988\u001b[0m | \u001b[1mINFO    \u001b[0m | \u001b[36mpjs.dataset\u001b[0m:\u001b[36mcollect_data\u001b[0m:\u001b[36m41\u001b[0m - \u001b[1mSuccessfully loaded 'examples' from: ..\\data\\LMentry\\last_letter.json\u001b[0m\n",
      "\u001b[32m2025-04-18 12:55:46.993\u001b[0m | \u001b[1mINFO    \u001b[0m | \u001b[36mpjs.dataset\u001b[0m:\u001b[36mcollect_data\u001b[0m:\u001b[36m41\u001b[0m - \u001b[1mSuccessfully loaded 'examples' from: ..\\data\\LMentry\\last_word.json\u001b[0m\n",
      "\u001b[32m2025-04-18 12:55:47.002\u001b[0m | \u001b[1mINFO    \u001b[0m | \u001b[36mpjs.dataset\u001b[0m:\u001b[36mcollect_data\u001b[0m:\u001b[36m41\u001b[0m - \u001b[1mSuccessfully loaded 'examples' from: ..\\data\\LMentry\\least_associated_word.json\u001b[0m\n",
      "\u001b[32m2025-04-18 12:55:47.012\u001b[0m | \u001b[1mINFO    \u001b[0m | \u001b[36mpjs.dataset\u001b[0m:\u001b[36mcollect_data\u001b[0m:\u001b[36m41\u001b[0m - \u001b[1mSuccessfully loaded 'examples' from: ..\\data\\LMentry\\less_letters.json\u001b[0m\n",
      "\u001b[32m2025-04-18 12:55:47.024\u001b[0m | \u001b[1mINFO    \u001b[0m | \u001b[36mpjs.dataset\u001b[0m:\u001b[36mcollect_data\u001b[0m:\u001b[36m41\u001b[0m - \u001b[1mSuccessfully loaded 'examples' from: ..\\data\\LMentry\\less_letters_length_diff_1.json\u001b[0m\n",
      "\u001b[32m2025-04-18 12:55:47.034\u001b[0m | \u001b[1mINFO    \u001b[0m | \u001b[36mpjs.dataset\u001b[0m:\u001b[36mcollect_data\u001b[0m:\u001b[36m41\u001b[0m - \u001b[1mSuccessfully loaded 'examples' from: ..\\data\\LMentry\\less_letters_length_diff_3plus.json\u001b[0m\n",
      "\u001b[32m2025-04-18 12:55:47.123\u001b[0m | \u001b[1mINFO    \u001b[0m | \u001b[36mpjs.dataset\u001b[0m:\u001b[36mcollect_data\u001b[0m:\u001b[36m41\u001b[0m - \u001b[1mSuccessfully loaded 'examples' from: ..\\data\\LMentry\\more_letters.json\u001b[0m\n",
      "\u001b[32m2025-04-18 12:55:47.134\u001b[0m | \u001b[1mINFO    \u001b[0m | \u001b[36mpjs.dataset\u001b[0m:\u001b[36mcollect_data\u001b[0m:\u001b[36m41\u001b[0m - \u001b[1mSuccessfully loaded 'examples' from: ..\\data\\LMentry\\more_letters_length_diff_1.json\u001b[0m\n",
      "\u001b[32m2025-04-18 12:55:47.144\u001b[0m | \u001b[1mINFO    \u001b[0m | \u001b[36mpjs.dataset\u001b[0m:\u001b[36mcollect_data\u001b[0m:\u001b[36m41\u001b[0m - \u001b[1mSuccessfully loaded 'examples' from: ..\\data\\LMentry\\more_letters_length_diff_3plus.json\u001b[0m\n",
      "\u001b[32m2025-04-18 12:55:47.153\u001b[0m | \u001b[1mINFO    \u001b[0m | \u001b[36mpjs.dataset\u001b[0m:\u001b[36mcollect_data\u001b[0m:\u001b[36m41\u001b[0m - \u001b[1mSuccessfully loaded 'examples' from: ..\\data\\LMentry\\most_associated_word.json\u001b[0m\n",
      "\u001b[32m2025-04-18 12:55:47.159\u001b[0m | \u001b[1mINFO    \u001b[0m | \u001b[36mpjs.dataset\u001b[0m:\u001b[36mcollect_data\u001b[0m:\u001b[36m41\u001b[0m - \u001b[1mSuccessfully loaded 'examples' from: ..\\data\\LMentry\\rhyming_word.json\u001b[0m\n",
      "\u001b[32m2025-04-18 12:55:47.165\u001b[0m | \u001b[1mINFO    \u001b[0m | \u001b[36mpjs.dataset\u001b[0m:\u001b[36mcollect_data\u001b[0m:\u001b[36m41\u001b[0m - \u001b[1mSuccessfully loaded 'examples' from: ..\\data\\LMentry\\rhyming_word_orthographically_different.json\u001b[0m\n",
      "\u001b[32m2025-04-18 12:55:47.170\u001b[0m | \u001b[1mINFO    \u001b[0m | \u001b[36mpjs.dataset\u001b[0m:\u001b[36mcollect_data\u001b[0m:\u001b[36m41\u001b[0m - \u001b[1mSuccessfully loaded 'examples' from: ..\\data\\LMentry\\rhyming_word_orthographically_similar.json\u001b[0m\n",
      "\u001b[32m2025-04-18 12:55:47.177\u001b[0m | \u001b[1mINFO    \u001b[0m | \u001b[36mpjs.dataset\u001b[0m:\u001b[36mcollect_data\u001b[0m:\u001b[36m41\u001b[0m - \u001b[1mSuccessfully loaded 'examples' from: ..\\data\\LMentry\\smaller_number.json\u001b[0m\n",
      "\u001b[32m2025-04-18 12:55:47.184\u001b[0m | \u001b[1mINFO    \u001b[0m | \u001b[36mpjs.dataset\u001b[0m:\u001b[36mcollect_data\u001b[0m:\u001b[36m41\u001b[0m - \u001b[1mSuccessfully loaded 'examples' from: ..\\data\\LMentry\\word_after.json\u001b[0m\n",
      "\u001b[32m2025-04-18 12:55:47.191\u001b[0m | \u001b[1mINFO    \u001b[0m | \u001b[36mpjs.dataset\u001b[0m:\u001b[36mcollect_data\u001b[0m:\u001b[36m41\u001b[0m - \u001b[1mSuccessfully loaded 'examples' from: ..\\data\\LMentry\\word_before.json\u001b[0m\n"
     ]
    }
   ],
   "source": [
    "data = Data(data_path=\"../data/LMentry\")"
   ]
  },
  {
   "cell_type": "code",
   "execution_count": 3,
   "id": "dec9a59a",
   "metadata": {},
   "outputs": [
    {
     "name": "stderr",
     "output_type": "stream",
     "text": [
      "\u001b[32m2025-04-18 12:55:47.197\u001b[0m | \u001b[1mINFO    \u001b[0m | \u001b[36mpjs.dataset\u001b[0m:\u001b[36mload_split\u001b[0m:\u001b[36m121\u001b[0m - \u001b[1mloaded: bigger_number.json\u001b[0m\n",
      "\u001b[32m2025-04-18 12:55:47.199\u001b[0m | \u001b[1mINFO    \u001b[0m | \u001b[36mpjs.dataset\u001b[0m:\u001b[36mload_split\u001b[0m:\u001b[36m121\u001b[0m - \u001b[1mloaded: bigger_number.json\u001b[0m\n",
      "\u001b[32m2025-04-18 12:55:47.200\u001b[0m | \u001b[1mINFO    \u001b[0m | \u001b[36mpjs.dataset\u001b[0m:\u001b[36mload_split\u001b[0m:\u001b[36m121\u001b[0m - \u001b[1mloaded: first_alphabetically_consecutive_first_letter.json\u001b[0m\n",
      "\u001b[32m2025-04-18 12:55:47.203\u001b[0m | \u001b[1mINFO    \u001b[0m | \u001b[36mpjs.dataset\u001b[0m:\u001b[36mload_split\u001b[0m:\u001b[36m121\u001b[0m - \u001b[1mloaded: first_alphabetically_consecutive_first_letter.json\u001b[0m\n",
      "\u001b[32m2025-04-18 12:55:47.204\u001b[0m | \u001b[1mINFO    \u001b[0m | \u001b[36mpjs.dataset\u001b[0m:\u001b[36mload_split\u001b[0m:\u001b[36m121\u001b[0m - \u001b[1mloaded: first_alphabetically_different_first_letter.json\u001b[0m\n",
      "\u001b[32m2025-04-18 12:55:47.206\u001b[0m | \u001b[1mINFO    \u001b[0m | \u001b[36mpjs.dataset\u001b[0m:\u001b[36mload_split\u001b[0m:\u001b[36m121\u001b[0m - \u001b[1mloaded: first_alphabetically_different_first_letter.json\u001b[0m\n",
      "\u001b[32m2025-04-18 12:55:47.207\u001b[0m | \u001b[1mINFO    \u001b[0m | \u001b[36mpjs.dataset\u001b[0m:\u001b[36mload_split\u001b[0m:\u001b[36m121\u001b[0m - \u001b[1mloaded: first_alphabetically_far_first_letter.json\u001b[0m\n",
      "\u001b[32m2025-04-18 12:55:47.209\u001b[0m | \u001b[1mINFO    \u001b[0m | \u001b[36mpjs.dataset\u001b[0m:\u001b[36mload_split\u001b[0m:\u001b[36m121\u001b[0m - \u001b[1mloaded: first_alphabetically_far_first_letter.json\u001b[0m\n",
      "\u001b[32m2025-04-18 12:55:47.210\u001b[0m | \u001b[1mINFO    \u001b[0m | \u001b[36mpjs.dataset\u001b[0m:\u001b[36mload_split\u001b[0m:\u001b[36m121\u001b[0m - \u001b[1mloaded: first_alphabetically_same_first_letter.json\u001b[0m\n",
      "\u001b[32m2025-04-18 12:55:47.213\u001b[0m | \u001b[1mINFO    \u001b[0m | \u001b[36mpjs.dataset\u001b[0m:\u001b[36mload_split\u001b[0m:\u001b[36m121\u001b[0m - \u001b[1mloaded: first_alphabetically_same_first_letter.json\u001b[0m\n",
      "\u001b[32m2025-04-18 12:55:47.214\u001b[0m | \u001b[1mINFO    \u001b[0m | \u001b[36mpjs.dataset\u001b[0m:\u001b[36mload_split\u001b[0m:\u001b[36m121\u001b[0m - \u001b[1mloaded: first_alphabetically.json\u001b[0m\n",
      "\u001b[32m2025-04-18 12:55:47.217\u001b[0m | \u001b[1mINFO    \u001b[0m | \u001b[36mpjs.dataset\u001b[0m:\u001b[36mload_split\u001b[0m:\u001b[36m121\u001b[0m - \u001b[1mloaded: first_alphabetically.json\u001b[0m\n",
      "\u001b[32m2025-04-18 12:55:47.218\u001b[0m | \u001b[1mINFO    \u001b[0m | \u001b[36mpjs.dataset\u001b[0m:\u001b[36mload_split\u001b[0m:\u001b[36m121\u001b[0m - \u001b[1mloaded: first_letter.json\u001b[0m\n",
      "\u001b[32m2025-04-18 12:55:47.220\u001b[0m | \u001b[1mINFO    \u001b[0m | \u001b[36mpjs.dataset\u001b[0m:\u001b[36mload_split\u001b[0m:\u001b[36m121\u001b[0m - \u001b[1mloaded: first_letter.json\u001b[0m\n",
      "\u001b[32m2025-04-18 12:55:47.221\u001b[0m | \u001b[1mINFO    \u001b[0m | \u001b[36mpjs.dataset\u001b[0m:\u001b[36mload_split\u001b[0m:\u001b[36m121\u001b[0m - \u001b[1mloaded: first_word.json\u001b[0m\n",
      "\u001b[32m2025-04-18 12:55:47.223\u001b[0m | \u001b[1mINFO    \u001b[0m | \u001b[36mpjs.dataset\u001b[0m:\u001b[36mload_split\u001b[0m:\u001b[36m121\u001b[0m - \u001b[1mloaded: first_word.json\u001b[0m\n",
      "\u001b[32m2025-04-18 12:55:47.224\u001b[0m | \u001b[1mINFO    \u001b[0m | \u001b[36mpjs.dataset\u001b[0m:\u001b[36mload_split\u001b[0m:\u001b[36m121\u001b[0m - \u001b[1mloaded: homophones.json\u001b[0m\n",
      "\u001b[32m2025-04-18 12:55:47.226\u001b[0m | \u001b[1mINFO    \u001b[0m | \u001b[36mpjs.dataset\u001b[0m:\u001b[36mload_split\u001b[0m:\u001b[36m121\u001b[0m - \u001b[1mloaded: homophones.json\u001b[0m\n",
      "\u001b[32m2025-04-18 12:55:47.227\u001b[0m | \u001b[1mINFO    \u001b[0m | \u001b[36mpjs.dataset\u001b[0m:\u001b[36mload_split\u001b[0m:\u001b[36m121\u001b[0m - \u001b[1mloaded: last_letter.json\u001b[0m\n",
      "\u001b[32m2025-04-18 12:55:47.229\u001b[0m | \u001b[1mINFO    \u001b[0m | \u001b[36mpjs.dataset\u001b[0m:\u001b[36mload_split\u001b[0m:\u001b[36m121\u001b[0m - \u001b[1mloaded: last_letter.json\u001b[0m\n",
      "\u001b[32m2025-04-18 12:55:47.230\u001b[0m | \u001b[1mINFO    \u001b[0m | \u001b[36mpjs.dataset\u001b[0m:\u001b[36mload_split\u001b[0m:\u001b[36m121\u001b[0m - \u001b[1mloaded: last_word.json\u001b[0m\n",
      "\u001b[32m2025-04-18 12:55:47.232\u001b[0m | \u001b[1mINFO    \u001b[0m | \u001b[36mpjs.dataset\u001b[0m:\u001b[36mload_split\u001b[0m:\u001b[36m121\u001b[0m - \u001b[1mloaded: last_word.json\u001b[0m\n",
      "\u001b[32m2025-04-18 12:55:47.233\u001b[0m | \u001b[1mINFO    \u001b[0m | \u001b[36mpjs.dataset\u001b[0m:\u001b[36mload_split\u001b[0m:\u001b[36m121\u001b[0m - \u001b[1mloaded: least_associated_word.json\u001b[0m\n",
      "\u001b[32m2025-04-18 12:55:47.236\u001b[0m | \u001b[1mINFO    \u001b[0m | \u001b[36mpjs.dataset\u001b[0m:\u001b[36mload_split\u001b[0m:\u001b[36m121\u001b[0m - \u001b[1mloaded: least_associated_word.json\u001b[0m\n",
      "\u001b[32m2025-04-18 12:55:47.237\u001b[0m | \u001b[1mINFO    \u001b[0m | \u001b[36mpjs.dataset\u001b[0m:\u001b[36mload_split\u001b[0m:\u001b[36m121\u001b[0m - \u001b[1mloaded: less_letters_length_diff_1.json\u001b[0m\n",
      "\u001b[32m2025-04-18 12:55:47.239\u001b[0m | \u001b[1mINFO    \u001b[0m | \u001b[36mpjs.dataset\u001b[0m:\u001b[36mload_split\u001b[0m:\u001b[36m121\u001b[0m - \u001b[1mloaded: less_letters_length_diff_1.json\u001b[0m\n",
      "\u001b[32m2025-04-18 12:55:47.240\u001b[0m | \u001b[1mINFO    \u001b[0m | \u001b[36mpjs.dataset\u001b[0m:\u001b[36mload_split\u001b[0m:\u001b[36m121\u001b[0m - \u001b[1mloaded: less_letters_length_diff_3plus.json\u001b[0m\n",
      "\u001b[32m2025-04-18 12:55:47.242\u001b[0m | \u001b[1mINFO    \u001b[0m | \u001b[36mpjs.dataset\u001b[0m:\u001b[36mload_split\u001b[0m:\u001b[36m121\u001b[0m - \u001b[1mloaded: less_letters_length_diff_3plus.json\u001b[0m\n",
      "\u001b[32m2025-04-18 12:55:47.243\u001b[0m | \u001b[1mINFO    \u001b[0m | \u001b[36mpjs.dataset\u001b[0m:\u001b[36mload_split\u001b[0m:\u001b[36m121\u001b[0m - \u001b[1mloaded: less_letters.json\u001b[0m\n",
      "\u001b[32m2025-04-18 12:55:47.245\u001b[0m | \u001b[1mINFO    \u001b[0m | \u001b[36mpjs.dataset\u001b[0m:\u001b[36mload_split\u001b[0m:\u001b[36m121\u001b[0m - \u001b[1mloaded: less_letters.json\u001b[0m\n",
      "\u001b[32m2025-04-18 12:55:47.246\u001b[0m | \u001b[1mINFO    \u001b[0m | \u001b[36mpjs.dataset\u001b[0m:\u001b[36mload_split\u001b[0m:\u001b[36m121\u001b[0m - \u001b[1mloaded: more_letters_length_diff_1.json\u001b[0m\n",
      "\u001b[32m2025-04-18 12:55:47.249\u001b[0m | \u001b[1mINFO    \u001b[0m | \u001b[36mpjs.dataset\u001b[0m:\u001b[36mload_split\u001b[0m:\u001b[36m121\u001b[0m - \u001b[1mloaded: more_letters_length_diff_1.json\u001b[0m\n",
      "\u001b[32m2025-04-18 12:55:47.250\u001b[0m | \u001b[1mINFO    \u001b[0m | \u001b[36mpjs.dataset\u001b[0m:\u001b[36mload_split\u001b[0m:\u001b[36m121\u001b[0m - \u001b[1mloaded: more_letters_length_diff_3plus.json\u001b[0m\n",
      "\u001b[32m2025-04-18 12:55:47.253\u001b[0m | \u001b[1mINFO    \u001b[0m | \u001b[36mpjs.dataset\u001b[0m:\u001b[36mload_split\u001b[0m:\u001b[36m121\u001b[0m - \u001b[1mloaded: more_letters_length_diff_3plus.json\u001b[0m\n",
      "\u001b[32m2025-04-18 12:55:47.254\u001b[0m | \u001b[1mINFO    \u001b[0m | \u001b[36mpjs.dataset\u001b[0m:\u001b[36mload_split\u001b[0m:\u001b[36m121\u001b[0m - \u001b[1mloaded: more_letters.json\u001b[0m\n",
      "\u001b[32m2025-04-18 12:55:47.256\u001b[0m | \u001b[1mINFO    \u001b[0m | \u001b[36mpjs.dataset\u001b[0m:\u001b[36mload_split\u001b[0m:\u001b[36m121\u001b[0m - \u001b[1mloaded: more_letters.json\u001b[0m\n",
      "\u001b[32m2025-04-18 12:55:47.257\u001b[0m | \u001b[1mINFO    \u001b[0m | \u001b[36mpjs.dataset\u001b[0m:\u001b[36mload_split\u001b[0m:\u001b[36m121\u001b[0m - \u001b[1mloaded: most_associated_word.json\u001b[0m\n",
      "\u001b[32m2025-04-18 12:55:47.260\u001b[0m | \u001b[1mINFO    \u001b[0m | \u001b[36mpjs.dataset\u001b[0m:\u001b[36mload_split\u001b[0m:\u001b[36m121\u001b[0m - \u001b[1mloaded: most_associated_word.json\u001b[0m\n",
      "\u001b[32m2025-04-18 12:55:47.261\u001b[0m | \u001b[1mINFO    \u001b[0m | \u001b[36mpjs.dataset\u001b[0m:\u001b[36mload_split\u001b[0m:\u001b[36m121\u001b[0m - \u001b[1mloaded: rhyming_word_orthographically_different.json\u001b[0m\n",
      "\u001b[32m2025-04-18 12:55:47.263\u001b[0m | \u001b[1mINFO    \u001b[0m | \u001b[36mpjs.dataset\u001b[0m:\u001b[36mload_split\u001b[0m:\u001b[36m121\u001b[0m - \u001b[1mloaded: rhyming_word_orthographically_different.json\u001b[0m\n",
      "\u001b[32m2025-04-18 12:55:47.264\u001b[0m | \u001b[1mINFO    \u001b[0m | \u001b[36mpjs.dataset\u001b[0m:\u001b[36mload_split\u001b[0m:\u001b[36m121\u001b[0m - \u001b[1mloaded: rhyming_word_orthographically_similar.json\u001b[0m\n",
      "\u001b[32m2025-04-18 12:55:47.266\u001b[0m | \u001b[1mINFO    \u001b[0m | \u001b[36mpjs.dataset\u001b[0m:\u001b[36mload_split\u001b[0m:\u001b[36m121\u001b[0m - \u001b[1mloaded: rhyming_word_orthographically_similar.json\u001b[0m\n",
      "\u001b[32m2025-04-18 12:55:47.267\u001b[0m | \u001b[1mINFO    \u001b[0m | \u001b[36mpjs.dataset\u001b[0m:\u001b[36mload_split\u001b[0m:\u001b[36m121\u001b[0m - \u001b[1mloaded: rhyming_word.json\u001b[0m\n",
      "\u001b[32m2025-04-18 12:55:47.269\u001b[0m | \u001b[1mINFO    \u001b[0m | \u001b[36mpjs.dataset\u001b[0m:\u001b[36mload_split\u001b[0m:\u001b[36m121\u001b[0m - \u001b[1mloaded: rhyming_word.json\u001b[0m\n",
      "\u001b[32m2025-04-18 12:55:47.270\u001b[0m | \u001b[1mINFO    \u001b[0m | \u001b[36mpjs.dataset\u001b[0m:\u001b[36mload_split\u001b[0m:\u001b[36m121\u001b[0m - \u001b[1mloaded: smaller_number.json\u001b[0m\n",
      "\u001b[32m2025-04-18 12:55:47.272\u001b[0m | \u001b[1mINFO    \u001b[0m | \u001b[36mpjs.dataset\u001b[0m:\u001b[36mload_split\u001b[0m:\u001b[36m121\u001b[0m - \u001b[1mloaded: smaller_number.json\u001b[0m\n",
      "\u001b[32m2025-04-18 12:55:47.273\u001b[0m | \u001b[1mINFO    \u001b[0m | \u001b[36mpjs.dataset\u001b[0m:\u001b[36mload_split\u001b[0m:\u001b[36m121\u001b[0m - \u001b[1mloaded: word_after.json\u001b[0m\n",
      "\u001b[32m2025-04-18 12:55:47.276\u001b[0m | \u001b[1mINFO    \u001b[0m | \u001b[36mpjs.dataset\u001b[0m:\u001b[36mload_split\u001b[0m:\u001b[36m121\u001b[0m - \u001b[1mloaded: word_after.json\u001b[0m\n",
      "\u001b[32m2025-04-18 12:55:47.277\u001b[0m | \u001b[1mINFO    \u001b[0m | \u001b[36mpjs.dataset\u001b[0m:\u001b[36mload_split\u001b[0m:\u001b[36m121\u001b[0m - \u001b[1mloaded: word_before.json\u001b[0m\n",
      "\u001b[32m2025-04-18 12:55:47.279\u001b[0m | \u001b[1mINFO    \u001b[0m | \u001b[36mpjs.dataset\u001b[0m:\u001b[36mload_split\u001b[0m:\u001b[36m121\u001b[0m - \u001b[1mloaded: word_before.json\u001b[0m\n"
     ]
    }
   ],
   "source": [
    "data.load_split(\"../data/dataset_splits/LMentry_split\")"
   ]
  },
  {
   "cell_type": "code",
   "execution_count": 4,
   "id": "f69b9bce",
   "metadata": {},
   "outputs": [],
   "source": [
    "model_path = \"../data/models/task_data_train/bigger_number.json/checkpoint-900\"\n",
    "\n",
    "## Macht W's statt leerzeichen, vielleicht lieber BABYLM-TOKENIZER-CHAR-TXT-SPACELESS ?\n",
    "tokenizer = AutoTokenizer.from_pretrained('phonemetransformers/babble-tokenizers', subfolder='BABYLM-TOKENIZER-CHAR-TXT')\n",
    "\n",
    "model = GPT2LMHeadModel.from_pretrained(model_path)"
   ]
  },
  {
   "cell_type": "code",
   "execution_count": 5,
   "id": "37277ae5",
   "metadata": {},
   "outputs": [
    {
     "name": "stderr",
     "output_type": "stream",
     "text": [
      "\u001b[32m2025-04-18 12:55:47.531\u001b[0m | \u001b[1mINFO    \u001b[0m | \u001b[36m__main__\u001b[0m:\u001b[36m<module>\u001b[0m:\u001b[36m3\u001b[0m - \u001b[1m['q', ':', 'W', 'i', 'n', 'W', 'a', 'n', 'W', 'a', 'l', 'p', 'h', 'a', 'b', 'e', 't', 'i', 'c', 'a', 'l', 'W', 'o', 'r', 'd', 'e', 'r', ',', 'W', 'w', 'h', 'i', 'c', 'h', 'W', 'w', 'o', 'r', 'd', 'W', 'c', 'o', 'm', 'e', 's', 'W', 'f', 'i', 'r', 's', 't', ',', 'W', '\"', 'b', 'l', 'a', 'n', 'k', 'e', 't', '\"', 'W', 'o', 'r', 'W', '\"', 'd', 'i', 'a', 'r', 'y', '\"', '?', 'W', 'a', ':']\u001b[0m\n"
     ]
    }
   ],
   "source": [
    "input_text = \"Q: In an alphabetical order, which word comes first, \\\"blanket\\\" or \\\"diary\\\"? A:\"\n",
    "tokens = tokenizer.tokenize(input_text)\n",
    "logger.info(tokens)"
   ]
  },
  {
   "cell_type": "code",
   "execution_count": 10,
   "id": "ccaf117b",
   "metadata": {},
   "outputs": [],
   "source": [
    "split_data = data.split_data\n",
    "test_df = split_data[\"bigger_number.json\"][\"test\"]"
   ]
  },
  {
   "cell_type": "code",
   "execution_count": 7,
   "id": "6d8c5559",
   "metadata": {},
   "outputs": [
    {
     "data": {
      "text/plain": [
       "GPT2LMHeadModel(\n",
       "  (transformer): GPT2Model(\n",
       "    (wte): Embedding(115, 768)\n",
       "    (wpe): Embedding(256, 768)\n",
       "    (drop): Dropout(p=0.1, inplace=False)\n",
       "    (h): ModuleList(\n",
       "      (0-11): 12 x GPT2Block(\n",
       "        (ln_1): LayerNorm((768,), eps=1e-05, elementwise_affine=True)\n",
       "        (attn): GPT2Attention(\n",
       "          (c_attn): Conv1D(nf=2304, nx=768)\n",
       "          (c_proj): Conv1D(nf=768, nx=768)\n",
       "          (attn_dropout): Dropout(p=0.1, inplace=False)\n",
       "          (resid_dropout): Dropout(p=0.1, inplace=False)\n",
       "        )\n",
       "        (ln_2): LayerNorm((768,), eps=1e-05, elementwise_affine=True)\n",
       "        (mlp): GPT2MLP(\n",
       "          (c_fc): Conv1D(nf=3072, nx=768)\n",
       "          (c_proj): Conv1D(nf=768, nx=3072)\n",
       "          (act): NewGELUActivation()\n",
       "          (dropout): Dropout(p=0.1, inplace=False)\n",
       "        )\n",
       "      )\n",
       "    )\n",
       "    (ln_f): LayerNorm((768,), eps=1e-05, elementwise_affine=True)\n",
       "  )\n",
       "  (lm_head): Linear(in_features=768, out_features=115, bias=False)\n",
       ")"
      ]
     },
     "execution_count": 7,
     "metadata": {},
     "output_type": "execute_result"
    }
   ],
   "source": [
    "device = torch.device(\"cuda\" if torch.cuda.is_available() else \"cpu\")\n",
    "model.to(device)"
   ]
  },
  {
   "cell_type": "code",
   "execution_count": null,
   "id": "12734fad",
   "metadata": {},
   "outputs": [
    {
     "name": "stdout",
     "output_type": "stream",
     "text": [
      "Input: Q: Of the numbers 701 and 438, which is bigger? A:\n",
      "Expected: 701\n",
      "Predicted: 701, which is bigger? \n",
      "---\n",
      "Input: Q: Of the numbers 486 and 491, which is bigger? A:\n",
      "Expected: 491\n",
      "Predicted: 491, which is bigger? \n",
      "---\n"
     ]
    }
   ],
   "source": [
    "from pjs.test import test_model\n",
    "\n",
    "\n",
    "test_model(model, tokenizer, test_df, \"../data/outputs/\", \"bigger_number.json\")\n"
   ]
  }
 ],
 "metadata": {
  "kernelspec": {
   "display_name": "pjs-8TwGqzJm-py3.12",
   "language": "python",
   "name": "python3"
  },
  "language_info": {
   "codemirror_mode": {
    "name": "ipython",
    "version": 3
   },
   "file_extension": ".py",
   "mimetype": "text/x-python",
   "name": "python",
   "nbconvert_exporter": "python",
   "pygments_lexer": "ipython3",
   "version": "3.12.9"
  }
 },
 "nbformat": 4,
 "nbformat_minor": 5
}
